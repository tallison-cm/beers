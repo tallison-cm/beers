{
 "cells": [
  {
   "cell_type": "code",
   "execution_count": 62,
   "id": "sunrise-brass",
   "metadata": {},
   "outputs": [],
   "source": [
    "import requests\n",
    "import pandas as pd\n",
    "import numpy as np\n",
    "import scipy as sp\n",
    "\n",
    "import matplotlib.pyplot as plt"
   ]
  },
  {
   "cell_type": "markdown",
   "id": "delayed-antique",
   "metadata": {},
   "source": [
    "Função para extrair as colunas, conforme a tabela no AWS Glue"
   ]
  },
  {
   "cell_type": "code",
   "execution_count": 2,
   "id": "assigned-shock",
   "metadata": {},
   "outputs": [],
   "source": [
    "def get_clean(json_raw):\n",
    "    clean = {\n",
    "        'id': json_raw['id'],\n",
    "        'name': json_raw['name'],\n",
    "        'abv': json_raw['abv'],\n",
    "        'ibu': json_raw['ibu'],\n",
    "        'target_fg': json_raw['target_fg'],\n",
    "        'target_og': json_raw['target_og'],\n",
    "        'ebc': json_raw['ebc'],\n",
    "        'srm': json_raw['srm'],\n",
    "        'ph': json_raw['ph']\n",
    "    }\n",
    "    return clean"
   ]
  },
  {
   "cell_type": "markdown",
   "id": "forward-equilibrium",
   "metadata": {},
   "source": [
    "Requisições para coleta dos dados da API e transformação em Dataframe"
   ]
  },
  {
   "cell_type": "code",
   "execution_count": 3,
   "id": "shaped-maintenance",
   "metadata": {},
   "outputs": [],
   "source": [
    "url = 'https://api.punkapi.com/v2/beers?page={page}&per_page=50'"
   ]
  },
  {
   "cell_type": "code",
   "execution_count": 4,
   "id": "balanced-enterprise",
   "metadata": {},
   "outputs": [],
   "source": [
    "beers = []\n",
    "n_pages = 20\n",
    "for idx in range(1, n_pages+1):\n",
    "    r = requests.get(url.format(page=idx))\n",
    "    beers.append(list(map(get_clean, r.json())))"
   ]
  },
  {
   "cell_type": "code",
   "execution_count": 5,
   "id": "loving-garden",
   "metadata": {},
   "outputs": [],
   "source": [
    "beers_clean = np.concatenate(beers).ravel().tolist()"
   ]
  },
  {
   "cell_type": "code",
   "execution_count": 6,
   "id": "italic-carter",
   "metadata": {},
   "outputs": [
    {
     "name": "stdout",
     "output_type": "stream",
     "text": [
      "<class 'pandas.core.frame.DataFrame'>\n",
      "Int64Index: 315 entries, 0 to 324\n",
      "Data columns (total 7 columns):\n",
      " #   Column     Non-Null Count  Dtype  \n",
      "---  ------     --------------  -----  \n",
      " 0   abv        315 non-null    float64\n",
      " 1   ibu        315 non-null    float64\n",
      " 2   target_fg  315 non-null    float64\n",
      " 3   target_og  315 non-null    float64\n",
      " 4   ebc        315 non-null    float64\n",
      " 5   srm        315 non-null    float64\n",
      " 6   ph         315 non-null    float64\n",
      "dtypes: float64(7)\n",
      "memory usage: 19.7 KB\n"
     ]
    }
   ],
   "source": [
    "beers_df = pd.DataFrame(beers_clean)\n",
    "beers_df.drop(columns=['id', 'name'], inplace=True)\n",
    "beers_df.dropna(inplace=True)\n",
    "beers_df.info()"
   ]
  },
  {
   "cell_type": "markdown",
   "id": "subjective-database",
   "metadata": {},
   "source": [
    "Uma pequena análise dos dados, com suas descrições e correlações"
   ]
  },
  {
   "cell_type": "code",
   "execution_count": 7,
   "id": "biblical-vertical",
   "metadata": {},
   "outputs": [
    {
     "data": {
      "text/html": [
       "<div>\n",
       "<style scoped>\n",
       "    .dataframe tbody tr th:only-of-type {\n",
       "        vertical-align: middle;\n",
       "    }\n",
       "\n",
       "    .dataframe tbody tr th {\n",
       "        vertical-align: top;\n",
       "    }\n",
       "\n",
       "    .dataframe thead th {\n",
       "        text-align: right;\n",
       "    }\n",
       "</style>\n",
       "<table border=\"1\" class=\"dataframe\">\n",
       "  <thead>\n",
       "    <tr style=\"text-align: right;\">\n",
       "      <th></th>\n",
       "      <th>abv</th>\n",
       "      <th>ibu</th>\n",
       "      <th>target_fg</th>\n",
       "      <th>target_og</th>\n",
       "      <th>ebc</th>\n",
       "      <th>srm</th>\n",
       "      <th>ph</th>\n",
       "    </tr>\n",
       "  </thead>\n",
       "  <tbody>\n",
       "    <tr>\n",
       "      <th>count</th>\n",
       "      <td>315.000000</td>\n",
       "      <td>315.000000</td>\n",
       "      <td>315.000000</td>\n",
       "      <td>315.000000</td>\n",
       "      <td>315.000000</td>\n",
       "      <td>315.000000</td>\n",
       "      <td>315.000000</td>\n",
       "    </tr>\n",
       "    <tr>\n",
       "      <th>mean</th>\n",
       "      <td>7.750159</td>\n",
       "      <td>65.447619</td>\n",
       "      <td>1015.317460</td>\n",
       "      <td>1067.307619</td>\n",
       "      <td>66.682222</td>\n",
       "      <td>33.608317</td>\n",
       "      <td>4.659048</td>\n",
       "    </tr>\n",
       "    <tr>\n",
       "      <th>std</th>\n",
       "      <td>3.895946</td>\n",
       "      <td>92.876783</td>\n",
       "      <td>14.649651</td>\n",
       "      <td>27.097993</td>\n",
       "      <td>92.765522</td>\n",
       "      <td>46.763569</td>\n",
       "      <td>4.217035</td>\n",
       "    </tr>\n",
       "    <tr>\n",
       "      <th>min</th>\n",
       "      <td>0.500000</td>\n",
       "      <td>0.000000</td>\n",
       "      <td>1000.000000</td>\n",
       "      <td>1007.000000</td>\n",
       "      <td>2.000000</td>\n",
       "      <td>1.000000</td>\n",
       "      <td>3.200000</td>\n",
       "    </tr>\n",
       "    <tr>\n",
       "      <th>25%</th>\n",
       "      <td>5.200000</td>\n",
       "      <td>35.000000</td>\n",
       "      <td>1010.000000</td>\n",
       "      <td>1048.250000</td>\n",
       "      <td>15.000000</td>\n",
       "      <td>8.000000</td>\n",
       "      <td>4.400000</td>\n",
       "    </tr>\n",
       "    <tr>\n",
       "      <th>50%</th>\n",
       "      <td>7.200000</td>\n",
       "      <td>50.000000</td>\n",
       "      <td>1012.000000</td>\n",
       "      <td>1065.000000</td>\n",
       "      <td>30.000000</td>\n",
       "      <td>15.000000</td>\n",
       "      <td>4.400000</td>\n",
       "    </tr>\n",
       "    <tr>\n",
       "      <th>75%</th>\n",
       "      <td>9.000000</td>\n",
       "      <td>70.000000</td>\n",
       "      <td>1015.000000</td>\n",
       "      <td>1079.500000</td>\n",
       "      <td>74.900000</td>\n",
       "      <td>38.000000</td>\n",
       "      <td>4.400000</td>\n",
       "    </tr>\n",
       "    <tr>\n",
       "      <th>max</th>\n",
       "      <td>41.000000</td>\n",
       "      <td>1157.000000</td>\n",
       "      <td>1125.000000</td>\n",
       "      <td>1157.000000</td>\n",
       "      <td>600.000000</td>\n",
       "      <td>305.000000</td>\n",
       "      <td>79.000000</td>\n",
       "    </tr>\n",
       "  </tbody>\n",
       "</table>\n",
       "</div>"
      ],
      "text/plain": [
       "              abv          ibu    target_fg    target_og         ebc  \\\n",
       "count  315.000000   315.000000   315.000000   315.000000  315.000000   \n",
       "mean     7.750159    65.447619  1015.317460  1067.307619   66.682222   \n",
       "std      3.895946    92.876783    14.649651    27.097993   92.765522   \n",
       "min      0.500000     0.000000  1000.000000  1007.000000    2.000000   \n",
       "25%      5.200000    35.000000  1010.000000  1048.250000   15.000000   \n",
       "50%      7.200000    50.000000  1012.000000  1065.000000   30.000000   \n",
       "75%      9.000000    70.000000  1015.000000  1079.500000   74.900000   \n",
       "max     41.000000  1157.000000  1125.000000  1157.000000  600.000000   \n",
       "\n",
       "              srm          ph  \n",
       "count  315.000000  315.000000  \n",
       "mean    33.608317    4.659048  \n",
       "std     46.763569    4.217035  \n",
       "min      1.000000    3.200000  \n",
       "25%      8.000000    4.400000  \n",
       "50%     15.000000    4.400000  \n",
       "75%     38.000000    4.400000  \n",
       "max    305.000000   79.000000  "
      ]
     },
     "execution_count": 7,
     "metadata": {},
     "output_type": "execute_result"
    }
   ],
   "source": [
    "beers_df.describe()"
   ]
  },
  {
   "cell_type": "code",
   "execution_count": 11,
   "id": "attempted-species",
   "metadata": {},
   "outputs": [
    {
     "data": {
      "text/html": [
       "<div>\n",
       "<style scoped>\n",
       "    .dataframe tbody tr th:only-of-type {\n",
       "        vertical-align: middle;\n",
       "    }\n",
       "\n",
       "    .dataframe tbody tr th {\n",
       "        vertical-align: top;\n",
       "    }\n",
       "\n",
       "    .dataframe thead th {\n",
       "        text-align: right;\n",
       "    }\n",
       "</style>\n",
       "<table border=\"1\" class=\"dataframe\">\n",
       "  <thead>\n",
       "    <tr style=\"text-align: right;\">\n",
       "      <th></th>\n",
       "      <th>abv</th>\n",
       "      <th>ibu</th>\n",
       "      <th>target_fg</th>\n",
       "      <th>target_og</th>\n",
       "      <th>ebc</th>\n",
       "      <th>srm</th>\n",
       "      <th>ph</th>\n",
       "    </tr>\n",
       "  </thead>\n",
       "  <tbody>\n",
       "    <tr>\n",
       "      <th>abv</th>\n",
       "      <td>1.000000</td>\n",
       "      <td>0.625721</td>\n",
       "      <td>0.258767</td>\n",
       "      <td>0.725155</td>\n",
       "      <td>0.408687</td>\n",
       "      <td>0.408931</td>\n",
       "      <td>0.024957</td>\n",
       "    </tr>\n",
       "    <tr>\n",
       "      <th>ibu</th>\n",
       "      <td>0.625721</td>\n",
       "      <td>1.000000</td>\n",
       "      <td>0.048908</td>\n",
       "      <td>0.252590</td>\n",
       "      <td>0.122521</td>\n",
       "      <td>0.123257</td>\n",
       "      <td>0.004733</td>\n",
       "    </tr>\n",
       "    <tr>\n",
       "      <th>target_fg</th>\n",
       "      <td>0.258767</td>\n",
       "      <td>0.048908</td>\n",
       "      <td>1.000000</td>\n",
       "      <td>-0.109582</td>\n",
       "      <td>0.364526</td>\n",
       "      <td>0.364052</td>\n",
       "      <td>0.004423</td>\n",
       "    </tr>\n",
       "    <tr>\n",
       "      <th>target_og</th>\n",
       "      <td>0.725155</td>\n",
       "      <td>0.252590</td>\n",
       "      <td>-0.109582</td>\n",
       "      <td>1.000000</td>\n",
       "      <td>0.437241</td>\n",
       "      <td>0.437389</td>\n",
       "      <td>0.047247</td>\n",
       "    </tr>\n",
       "    <tr>\n",
       "      <th>ebc</th>\n",
       "      <td>0.408687</td>\n",
       "      <td>0.122521</td>\n",
       "      <td>0.364526</td>\n",
       "      <td>0.437241</td>\n",
       "      <td>1.000000</td>\n",
       "      <td>0.999521</td>\n",
       "      <td>-0.015814</td>\n",
       "    </tr>\n",
       "    <tr>\n",
       "      <th>srm</th>\n",
       "      <td>0.408931</td>\n",
       "      <td>0.123257</td>\n",
       "      <td>0.364052</td>\n",
       "      <td>0.437389</td>\n",
       "      <td>0.999521</td>\n",
       "      <td>1.000000</td>\n",
       "      <td>-0.015591</td>\n",
       "    </tr>\n",
       "    <tr>\n",
       "      <th>ph</th>\n",
       "      <td>0.024957</td>\n",
       "      <td>0.004733</td>\n",
       "      <td>0.004423</td>\n",
       "      <td>0.047247</td>\n",
       "      <td>-0.015814</td>\n",
       "      <td>-0.015591</td>\n",
       "      <td>1.000000</td>\n",
       "    </tr>\n",
       "  </tbody>\n",
       "</table>\n",
       "</div>"
      ],
      "text/plain": [
       "                abv       ibu  target_fg  target_og       ebc       srm  \\\n",
       "abv        1.000000  0.625721   0.258767   0.725155  0.408687  0.408931   \n",
       "ibu        0.625721  1.000000   0.048908   0.252590  0.122521  0.123257   \n",
       "target_fg  0.258767  0.048908   1.000000  -0.109582  0.364526  0.364052   \n",
       "target_og  0.725155  0.252590  -0.109582   1.000000  0.437241  0.437389   \n",
       "ebc        0.408687  0.122521   0.364526   0.437241  1.000000  0.999521   \n",
       "srm        0.408931  0.123257   0.364052   0.437389  0.999521  1.000000   \n",
       "ph         0.024957  0.004733   0.004423   0.047247 -0.015814 -0.015591   \n",
       "\n",
       "                 ph  \n",
       "abv        0.024957  \n",
       "ibu        0.004733  \n",
       "target_fg  0.004423  \n",
       "target_og  0.047247  \n",
       "ebc       -0.015814  \n",
       "srm       -0.015591  \n",
       "ph         1.000000  "
      ]
     },
     "metadata": {},
     "output_type": "display_data"
    },
    {
     "data": {
      "image/png": "[encoded data removed]",
      "text/plain": [
       "<Figure size 288x288 with 1 Axes>"
      ]
     },
     "metadata": {
      "needs_background": "light"
     },
     "output_type": "display_data"
    }
   ],
   "source": [
    "#beers_df.hist(bins=50, figsize=(20,15))\n",
    "#plt.show()\n",
    "display(beers_df.corr())\n",
    "plt.matshow(beers_df.corr())\n",
    "plt.show()"
   ]
  },
  {
   "cell_type": "markdown",
   "id": "tutorial-squad",
   "metadata": {},
   "source": [
    "Como são poucos os atributos e não possuem alta correlação, todos serão levados para o treinamento dos modelos"
   ]
  },
  {
   "cell_type": "code",
   "execution_count": 276,
   "id": "eastern-london",
   "metadata": {},
   "outputs": [],
   "source": [
    "y = beers_df['ibu'].copy()\n",
    "X = beers_df.drop(columns=['ibu']).copy()"
   ]
  },
  {
   "cell_type": "markdown",
   "id": "twenty-manhattan",
   "metadata": {},
   "source": [
    "Separação em dados de teste e treino"
   ]
  },
  {
   "cell_type": "code",
   "execution_count": 277,
   "id": "otherwise-antarctica",
   "metadata": {},
   "outputs": [],
   "source": [
    "from sklearn.model_selection import train_test_split, cross_val_score\n",
    "from sklearn.metrics import mean_squared_error\n",
    "\n",
    "X_train, X_test, y_train, y_test = train_test_split(X, y, test_size=0.2, random_state=42)"
   ]
  },
  {
   "cell_type": "markdown",
   "id": "latest-stuff",
   "metadata": {},
   "source": [
    "Verificando a possibilidade de existirem atributos mais relevantes que outros.\n",
    "Como não houve exclusão de nenhum, continuaremos com todos"
   ]
  },
  {
   "cell_type": "code",
   "execution_count": 278,
   "id": "nearby-farming",
   "metadata": {},
   "outputs": [
    {
     "name": "stdout",
     "output_type": "stream",
     "text": [
      "(252, 6) (252, 6)\n"
     ]
    }
   ],
   "source": [
    "from sklearn.feature_selection import SelectKBest, f_regression\n",
    "\n",
    "X_new = SelectKBest(f_regression, k='all').fit_transform(X_train, y_train)\n",
    "print(X_train.shape, X_new.shape)"
   ]
  },
  {
   "cell_type": "markdown",
   "id": "opposite-receiver",
   "metadata": {},
   "source": [
    "Como visto na pequena análise feita acima, os atributos estão em escalas muito diferentes.\n",
    "Isso pode prejudicar a performance de alguns algoritmos, dessa forma todos serão padronizados"
   ]
  },
  {
   "cell_type": "code",
   "execution_count": 279,
   "id": "secure-simple",
   "metadata": {},
   "outputs": [
    {
     "data": {
      "text/plain": [
       "StandardScaler()"
      ]
     },
     "execution_count": 279,
     "metadata": {},
     "output_type": "execute_result"
    }
   ],
   "source": [
    "from sklearn.preprocessing import StandardScaler\n",
    "\n",
    "scaler = StandardScaler()\n",
    "scaler.fit(X_train)"
   ]
  },
  {
   "cell_type": "code",
   "execution_count": 280,
   "id": "arbitrary-element",
   "metadata": {},
   "outputs": [],
   "source": [
    "X_train_scaled = scaler.transform(X_train)"
   ]
  },
  {
   "cell_type": "markdown",
   "id": "progressive-animal",
   "metadata": {},
   "source": [
    "Função que retorna a média e o desvio padrão para os 5 folds da validação cruzada, utilizando como função a raiz do erro quadrado médio"
   ]
  },
  {
   "cell_type": "code",
   "execution_count": 281,
   "id": "potential-communication",
   "metadata": {},
   "outputs": [],
   "source": [
    "def get_score(regressor, X, y):\n",
    "    scores = cross_val_score(reg, X_train_scaled, y_train, scoring=\"neg_root_mean_squared_error\", cv=5)\n",
    "    rmse_scores = -scores\n",
    "    return rmse_scores.mean(), rmse_scores.std()"
   ]
  },
  {
   "cell_type": "markdown",
   "id": "leading-device",
   "metadata": {},
   "source": [
    "Modelo mais simples de Regressão Linear com regularização que serve como baseline"
   ]
  },
  {
   "cell_type": "code",
   "execution_count": 282,
   "id": "ready-corpus",
   "metadata": {},
   "outputs": [
    {
     "name": "stdout",
     "output_type": "stream",
     "text": [
      "(77.49899903109909, 43.141738560724505)\n"
     ]
    }
   ],
   "source": [
    "from sklearn.linear_model import ElasticNet\n",
    "\n",
    "reg = ElasticNet(random_state=42)\n",
    "#reg.fit(X_train_scaled, y_train)\n",
    "\n",
    "print(get_score(reg, X_train_scaled, y_train))"
   ]
  },
  {
   "cell_type": "markdown",
   "id": "hindu-ground",
   "metadata": {},
   "source": [
    "Modelo SVM. Como possui muitos parâmetros é um bom candidato para a próxima etapa, mesmo com um score menor que o anterior"
   ]
  },
  {
   "cell_type": "code",
   "execution_count": 283,
   "id": "protected-daughter",
   "metadata": {},
   "outputs": [
    {
     "name": "stdout",
     "output_type": "stream",
     "text": [
      "(82.21002414169634, 61.54186999918029)\n"
     ]
    }
   ],
   "source": [
    "from sklearn.svm import SVR\n",
    "\n",
    "reg = SVR()\n",
    "#reg.fit(X_train_scaled, y_train)\n",
    "\n",
    "print(get_score(reg, X_train_scaled, y_train))"
   ]
  },
  {
   "cell_type": "markdown",
   "id": "damaged-brass",
   "metadata": {},
   "source": [
    "Modelo RandomForest. Possui muitos parâmetros e sofre com overfitting. Dessa forma, o resultado pode não ser confiável. É necessário passar pela próxima etapa"
   ]
  },
  {
   "cell_type": "code",
   "execution_count": 284,
   "id": "humanitarian-draft",
   "metadata": {},
   "outputs": [
    {
     "name": "stdout",
     "output_type": "stream",
     "text": [
      "(49.675069728438636, 22.677088335716086)\n"
     ]
    }
   ],
   "source": [
    "from sklearn.ensemble import RandomForestRegressor\n",
    "\n",
    "reg = RandomForestRegressor(random_state=42)\n",
    "#reg.fit(X_train_scaled, y_train)\n",
    "\n",
    "print(get_score(reg, X_train_scaled, y_train))"
   ]
  },
  {
   "cell_type": "markdown",
   "id": "lesbian-console",
   "metadata": {},
   "source": [
    "Modelo XGBoost. Assim como o modelo anterior, possui muitos parâmetros. Portanto passará pela próxima etapa"
   ]
  },
  {
   "cell_type": "code",
   "execution_count": 285,
   "id": "historical-phenomenon",
   "metadata": {},
   "outputs": [
    {
     "name": "stdout",
     "output_type": "stream",
     "text": [
      "(34.717146328880034, 5.443109013429761)\n"
     ]
    }
   ],
   "source": [
    "from xgboost import XGBRegressor\n",
    "\n",
    "reg = XGBRegressor(random_state=42)\n",
    "\n",
    "print(get_score(reg, X_train_scaled, y_train))"
   ]
  },
  {
   "cell_type": "markdown",
   "id": "falling-yield",
   "metadata": {},
   "source": [
    "Será realizada uma busca aleatória nos parâmetros dos modelos mais complexos, associado a validação cruzada. Assim, podemos conseguir valores para os parâmetros que tenham uma boa relação entre Bias e Variância"
   ]
  },
  {
   "cell_type": "code",
   "execution_count": 286,
   "id": "married-weekend",
   "metadata": {},
   "outputs": [
    {
     "data": {
      "text/plain": [
       "RandomizedSearchCV(cv=5, estimator=RandomForestRegressor(random_state=42),\n",
       "                   n_iter=100, n_jobs=-1,\n",
       "                   param_distributions={'max_depth': <scipy.stats._distn_infrastructure.rv_frozen object at 0x000002548CED3940>,\n",
       "                                        'max_features': <scipy.stats._distn_infrastructure.rv_frozen object at 0x000002548C8F8C10>,\n",
       "                                        'n_estimators': <scipy.stats._distn_infrastructure.rv_frozen object at 0x000002548DC7B550>},\n",
       "                   random_state=42, scoring='neg_root_mean_squared_error')"
      ]
     },
     "execution_count": 286,
     "metadata": {},
     "output_type": "execute_result"
    }
   ],
   "source": [
    "from sklearn.model_selection import RandomizedSearchCV\n",
    "from scipy.stats import randint\n",
    "\n",
    "param_distribs = {\n",
    "        'n_estimators': randint(low=1, high=200),\n",
    "        'max_features': randint(low=2, high=6),\n",
    "        'max_depth': randint(low=3, high=10)\n",
    "    }\n",
    "\n",
    "forest_reg = RandomForestRegressor(random_state=42)\n",
    "r_search = RandomizedSearchCV(forest_reg, param_distributions=param_distribs, n_iter=100, cv=5, \n",
    "                              scoring='neg_root_mean_squared_error', n_jobs=-1, random_state=42)\n",
    "\n",
    "r_search.fit(X_train_scaled, y_train)"
   ]
  },
  {
   "cell_type": "code",
   "execution_count": 287,
   "id": "moderate-advantage",
   "metadata": {},
   "outputs": [
    {
     "data": {
      "text/plain": [
       "RandomForestRegressor(max_depth=3, max_features=5, n_estimators=14,\n",
       "                      random_state=42)"
      ]
     },
     "execution_count": 287,
     "metadata": {},
     "output_type": "execute_result"
    }
   ],
   "source": [
    "r_search.best_estimator_"
   ]
  },
  {
   "cell_type": "code",
   "execution_count": 288,
   "id": "abstract-chapter",
   "metadata": {},
   "outputs": [
    {
     "data": {
      "text/plain": [
       "RandomizedSearchCV(cv=5, estimator=SVR(), n_iter=100, n_jobs=-1,\n",
       "                   param_distributions={'C': <scipy.stats._distn_infrastructure.rv_frozen object at 0x000002548DC39BB0>,\n",
       "                                        'gamma': <scipy.stats._distn_infrastructure.rv_frozen object at 0x000002548D8CA100>,\n",
       "                                        'kernel': ['rbf', 'linear']},\n",
       "                   random_state=42, scoring='neg_root_mean_squared_error')"
      ]
     },
     "execution_count": 288,
     "metadata": {},
     "output_type": "execute_result"
    }
   ],
   "source": [
    "param_distribs = {'C': sp.stats.expon(scale=1000), 'gamma': sp.stats.expon(scale=.1), 'kernel': ['rbf', 'linear']}\n",
    "\n",
    "svm_reg = SVR()\n",
    "r_search = RandomizedSearchCV(svm_reg, param_distribs, n_iter=100, cv=5, \n",
    "                              scoring='neg_root_mean_squared_error', n_jobs=-1, random_state=42)\n",
    "\n",
    "r_search.fit(X_train_scaled, y_train)"
   ]
  },
  {
   "cell_type": "code",
   "execution_count": 289,
   "id": "promotional-classic",
   "metadata": {},
   "outputs": [
    {
     "data": {
      "text/plain": [
       "SVR(C=2373.312770663391, gamma=0.03176359085304841)"
      ]
     },
     "execution_count": 289,
     "metadata": {},
     "output_type": "execute_result"
    }
   ],
   "source": [
    "r_search.best_estimator_"
   ]
  },
  {
   "cell_type": "code",
   "execution_count": 290,
   "id": "brave-mandate",
   "metadata": {},
   "outputs": [
    {
     "data": {
      "text/plain": [
       "RandomizedSearchCV(cv=10,\n",
       "                   estimator=XGBRegressor(base_score=None, booster=None,\n",
       "                                          colsample_bylevel=None,\n",
       "                                          colsample_bynode=None,\n",
       "                                          colsample_bytree=None, gamma=None,\n",
       "                                          gpu_id=None, importance_type='gain',\n",
       "                                          interaction_constraints=None,\n",
       "                                          learning_rate=None,\n",
       "                                          max_delta_step=None, max_depth=None,\n",
       "                                          min_child_weight=None, missing=nan,\n",
       "                                          monotone_constraints=None,\n",
       "                                          n_estimators=100,...\n",
       "                                        'max_depth': <scipy.stats._distn_infrastructure.rv_frozen object at 0x000002548DCC6040>,\n",
       "                                        'n_estimators': <scipy.stats._distn_infrastructure.rv_frozen object at 0x000002548DC92310>,\n",
       "                                        'reg_alpha': <scipy.stats._distn_infrastructure.rv_frozen object at 0x000002548DC97FA0>,\n",
       "                                        'reg_lambda': <scipy.stats._distn_infrastructure.rv_frozen object at 0x000002548DC9FE20>},\n",
       "                   random_state=42, scoring='neg_root_mean_squared_error')"
      ]
     },
     "execution_count": 290,
     "metadata": {},
     "output_type": "execute_result"
    }
   ],
   "source": [
    "param_distribs = {'n_estimators': randint(low=1, high=200), 'gamma': sp.stats.expon(scale=10),\n",
    "                  'max_depth': randint(low=3, high=10), 'reg_lambda': sp.stats.expon(scale=1),\n",
    "                  'reg_alpha': sp.stats.expon(scale=1)}\n",
    "\n",
    "xgb_reg = XGBRegressor(random_state=42)\n",
    "r_search = RandomizedSearchCV(xgb_reg, param_distribs, n_iter=100, cv=10, \n",
    "                              scoring='neg_root_mean_squared_error', n_jobs=-1, random_state=42)\n",
    "\n",
    "r_search.fit(X_train_scaled, y_train)"
   ]
  },
  {
   "cell_type": "code",
   "execution_count": 291,
   "id": "prescription-store",
   "metadata": {},
   "outputs": [
    {
     "data": {
      "text/plain": [
       "XGBRegressor(base_score=0.5, booster='gbtree', colsample_bylevel=1,\n",
       "             colsample_bynode=1, colsample_bytree=1, gamma=1.5416196746656106,\n",
       "             gpu_id=-1, importance_type='gain', interaction_constraints='',\n",
       "             learning_rate=0.300000012, max_delta_step=0, max_depth=5,\n",
       "             min_child_weight=1, missing=nan, monotone_constraints='()',\n",
       "             n_estimators=150, n_jobs=8, num_parallel_tree=1, random_state=42,\n",
       "             reg_alpha=0.05806520264207262, reg_lambda=1.280129748994866,\n",
       "             scale_pos_weight=1, subsample=1, tree_method='exact',\n",
       "             validate_parameters=1, verbosity=None)"
      ]
     },
     "execution_count": 291,
     "metadata": {},
     "output_type": "execute_result"
    }
   ],
   "source": [
    "r_search.best_estimator_"
   ]
  },
  {
   "cell_type": "markdown",
   "id": "stable-church",
   "metadata": {},
   "source": [
    "Com base nos resultados da busca aleatória. Treinamos os melhores modelos e verificamos seu score nas bases de treino e teste"
   ]
  },
  {
   "cell_type": "code",
   "execution_count": 292,
   "id": "meaningful-chamber",
   "metadata": {},
   "outputs": [
    {
     "name": "stdout",
     "output_type": "stream",
     "text": [
      "Train 35.833448491289765\n",
      "Test 24.799638602661346\n"
     ]
    }
   ],
   "source": [
    "best_forest = RandomForestRegressor(max_depth=3, max_features=5, n_estimators=14, random_state=42)\n",
    "best_forest.fit(X_train_scaled, y_train)\n",
    "\n",
    "y_train_best_forest = best_forest.predict(X_train_scaled)\n",
    "y_test_best_forest = best_forest.predict(scaler.transform(X_test))\n",
    "\n",
    "print('Train', np.sqrt(mean_squared_error(y_train_best_forest, y_train)))\n",
    "print('Test', np.sqrt(mean_squared_error(y_test_best_forest, y_test)))"
   ]
  },
  {
   "cell_type": "code",
   "execution_count": 293,
   "id": "israeli-coach",
   "metadata": {},
   "outputs": [
    {
     "name": "stdout",
     "output_type": "stream",
     "text": [
      "Train 38.49500422652386\n",
      "Test 20.209218365008667\n"
     ]
    }
   ],
   "source": [
    "best_svm = SVR(C=2373.312770663391, gamma=0.03176359085304841)\n",
    "best_svm.fit(X_train_scaled, y_train)\n",
    "\n",
    "y_train_best_svm = best_svm.predict(X_train_scaled)\n",
    "y_test_best_svm = best_svm.predict(scaler.transform(X_test))\n",
    "\n",
    "print('Train', np.sqrt(mean_squared_error(y_train_best_svm, y_train)))\n",
    "print('Test', np.sqrt(mean_squared_error(y_test_best_svm, y_test)))"
   ]
  },
  {
   "cell_type": "code",
   "execution_count": 296,
   "id": "measured-helmet",
   "metadata": {},
   "outputs": [
    {
     "name": "stdout",
     "output_type": "stream",
     "text": [
      "Train 17.317697857689858\n",
      "Test 20.71206490177419\n"
     ]
    }
   ],
   "source": [
    "best_xgb = XGBRegressor(gamma=1.5416196746656106, max_depth=5, n_estimators=15,\n",
    "                        reg_alpha=0.05806520264207262, reg_lambda=1.280129748994866, random_state=42)\n",
    "best_xgb.fit(X_train_scaled, y_train)\n",
    "\n",
    "y_train_best_xgb = best_xgb.predict(X_train_scaled)\n",
    "y_test_best_xgb = best_xgb.predict(scaler.transform(X_test))\n",
    "\n",
    "print('Train', np.sqrt(mean_squared_error(y_train_best_xgb, y_train)))\n",
    "print('Test', np.sqrt(mean_squared_error(y_test_best_xgb, y_test)))"
   ]
  },
  {
   "cell_type": "markdown",
   "id": "norman-mongolia",
   "metadata": {},
   "source": [
    "O modelo escolhido é aquele que consegue generalizar melhor, sem se sobreajustar ao treinamento. Os dois primeiros modelos provavelmente não conseguiram convergir, devido ao erro de treinamento mais alto que o de teste, portanto o último modelo será o escolhido, visto que possui o menor erro de teste.\n",
    "\n",
    "XGBRegressor(gamma=1.5416196746656106, max_depth=5, n_estimators=15,\n",
    "                        reg_alpha=0.05806520264207262, reg_lambda=1.280129748994866, random_state=42)"
   ]
  },
  {
   "cell_type": "code",
   "execution_count": null,
   "id": "interior-bottom",
   "metadata": {},
   "outputs": [],
   "source": []
  }
 ],
 "metadata": {
  "kernelspec": {
   "display_name": "Python 3",
   "language": "python",
   "name": "python3"
  },
  "language_info": {
   "codemirror_mode": {
    "name": "ipython",
    "version": 3
   },
   "file_extension": ".py",
   "mimetype": "text/x-python",
   "name": "python",
   "nbconvert_exporter": "python",
   "pygments_lexer": "ipython3",
   "version": "3.8.5"
  }
 },
 "nbformat": 4,
 "nbformat_minor": 5
}
